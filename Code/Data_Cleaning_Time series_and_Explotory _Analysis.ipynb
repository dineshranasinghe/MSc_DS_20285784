{
 "cells": [
  {
   "cell_type": "code",
   "execution_count": 19,
   "id": "7409db75",
   "metadata": {},
   "outputs": [],
   "source": [
    "import pandas as pd\n",
    "import matplotlib.pyplot as plt\n",
    "import seaborn as sns\n",
    "import statsmodels.api as sm"
   ]
  },
  {
   "cell_type": "code",
   "execution_count": 181,
   "id": "6892f04c",
   "metadata": {},
   "outputs": [],
   "source": [
    "# Load datasets\n",
    "sales_data = pd.read_csv(\"../Required Data/training_Sales.csv\")\n",
    "traffic_data = pd.read_csv(\"../Required Data/training_Traffic.csv\")"
   ]
  },
  {
   "cell_type": "code",
   "execution_count": 213,
   "id": "55432de4",
   "metadata": {},
   "outputs": [
    {
     "name": "stdout",
     "output_type": "stream",
     "text": [
      "<class 'pandas.core.frame.DataFrame'>\n",
      "RangeIndex: 58437 entries, 0 to 58436\n",
      "Data columns (total 2 columns):\n",
      " #   Column  Non-Null Count  Dtype         \n",
      "---  ------  --------------  -----         \n",
      " 0   Date    58437 non-null  datetime64[ns]\n",
      " 1   Value   58437 non-null  int64         \n",
      "dtypes: datetime64[ns](1), int64(1)\n",
      "memory usage: 913.2 KB\n"
     ]
    }
   ],
   "source": [
    "sales_data.info()"
   ]
  },
  {
   "cell_type": "code",
   "execution_count": 214,
   "id": "567d359e",
   "metadata": {},
   "outputs": [
    {
     "name": "stdout",
     "output_type": "stream",
     "text": [
      "<class 'pandas.core.frame.DataFrame'>\n",
      "RangeIndex: 67058 entries, 0 to 67057\n",
      "Data columns (total 2 columns):\n",
      " #   Column  Non-Null Count  Dtype         \n",
      "---  ------  --------------  -----         \n",
      " 0   Date    67022 non-null  datetime64[ns]\n",
      " 1   Value   67058 non-null  int64         \n",
      "dtypes: datetime64[ns](1), int64(1)\n",
      "memory usage: 1.0 MB\n"
     ]
    }
   ],
   "source": [
    "traffic_data.info()"
   ]
  },
  {
   "cell_type": "code",
   "execution_count": 184,
   "id": "2635da42",
   "metadata": {},
   "outputs": [
    {
     "name": "stdout",
     "output_type": "stream",
     "text": [
      "Date     0\n",
      "Value    0\n",
      "dtype: int64\n",
      "Date     0\n",
      "Value    0\n",
      "dtype: int64\n"
     ]
    }
   ],
   "source": [
    "print(sales_data.isna().sum())\n",
    "print(traffic_data.isna().sum())"
   ]
  },
  {
   "cell_type": "code",
   "execution_count": 185,
   "id": "8d47b04e",
   "metadata": {},
   "outputs": [
    {
     "name": "stderr",
     "output_type": "stream",
     "text": [
      "C:\\Users\\Chamodi\\AppData\\Local\\Temp\\ipykernel_11796\\402421618.py:2: UserWarning: Could not infer format, so each element will be parsed individually, falling back to `dateutil`. To ensure parsing is consistent and as-expected, please specify a format.\n",
      "  traffic_data['Date'] = pd.to_datetime(traffic_data['Date'], errors='coerce')\n"
     ]
    }
   ],
   "source": [
    "# Convert both Date columns to datetime format to ensure they match\n",
    "traffic_data['Date'] = pd.to_datetime(traffic_data['Date'], errors='coerce')\n",
    "sales_data['Date'] = pd.to_datetime(sales_data['Date'], format='%d/%m/%Y %H:%M', errors='coerce')"
   ]
  },
  {
   "cell_type": "code",
   "execution_count": 186,
   "id": "3d4acebf",
   "metadata": {},
   "outputs": [
    {
     "name": "stdout",
     "output_type": "stream",
     "text": [
      "Date     52\n",
      "Value     0\n",
      "dtype: int64\n",
      "Date     36\n",
      "Value     0\n",
      "dtype: int64\n"
     ]
    }
   ],
   "source": [
    "print(sales_data.isna().sum())\n",
    "print(traffic_data.isna().sum())"
   ]
  },
  {
   "cell_type": "code",
   "execution_count": 187,
   "id": "4026f656",
   "metadata": {},
   "outputs": [
    {
     "name": "stdout",
     "output_type": "stream",
     "text": [
      "0   2021-01-01 10:00:00\n",
      "1   2021-01-01 10:15:00\n",
      "2   2021-01-01 10:30:00\n",
      "3   2021-01-01 10:45:00\n",
      "4   2021-01-01 11:00:00\n",
      "Name: Date, dtype: datetime64[ns]\n",
      "0   NaT\n",
      "1   NaT\n",
      "2   NaT\n",
      "3   NaT\n",
      "4   NaT\n",
      "Name: Date, dtype: datetime64[ns]\n"
     ]
    }
   ],
   "source": [
    "print(sales_data['Date'].head())\n",
    "print(traffic_data['Date'].head())"
   ]
  },
  {
   "cell_type": "code",
   "execution_count": 188,
   "id": "df9f7525",
   "metadata": {},
   "outputs": [
    {
     "name": "stdout",
     "output_type": "stream",
     "text": [
      "0\n",
      "0\n"
     ]
    }
   ],
   "source": [
    "# Forward fill NaT values in the 'Date' column\n",
    "sales_data['Date'] = sales_data['Date'].ffill()\n",
    "print(sales_data['Date'].isna().sum())\n",
    "\n",
    "traffic_data['Date'] = traffic_data['Date'].ffill()\n",
    "print(sales_data['Date'].isna().sum())"
   ]
  },
  {
   "cell_type": "code",
   "execution_count": 189,
   "id": "f26c1a54",
   "metadata": {},
   "outputs": [],
   "source": [
    "# Perform the merge with custom suffixes\n",
    "merged_data = pd.merge(sales_data, traffic_data, on='Date', how='right', suffixes=('_sales', '_traffic'))"
   ]
  },
  {
   "cell_type": "code",
   "execution_count": 190,
   "id": "3f403589",
   "metadata": {},
   "outputs": [
    {
     "data": {
      "text/html": [
       "<div>\n",
       "<style scoped>\n",
       "    .dataframe tbody tr th:only-of-type {\n",
       "        vertical-align: middle;\n",
       "    }\n",
       "\n",
       "    .dataframe tbody tr th {\n",
       "        vertical-align: top;\n",
       "    }\n",
       "\n",
       "    .dataframe thead th {\n",
       "        text-align: right;\n",
       "    }\n",
       "</style>\n",
       "<table border=\"1\" class=\"dataframe\">\n",
       "  <thead>\n",
       "    <tr style=\"text-align: right;\">\n",
       "      <th></th>\n",
       "      <th>Date</th>\n",
       "      <th>Value_sales</th>\n",
       "      <th>Value_traffic</th>\n",
       "    </tr>\n",
       "  </thead>\n",
       "  <tbody>\n",
       "    <tr>\n",
       "      <th>0</th>\n",
       "      <td>NaT</td>\n",
       "      <td>NaN</td>\n",
       "      <td>758</td>\n",
       "    </tr>\n",
       "    <tr>\n",
       "      <th>1</th>\n",
       "      <td>NaT</td>\n",
       "      <td>NaN</td>\n",
       "      <td>718</td>\n",
       "    </tr>\n",
       "    <tr>\n",
       "      <th>2</th>\n",
       "      <td>NaT</td>\n",
       "      <td>NaN</td>\n",
       "      <td>758</td>\n",
       "    </tr>\n",
       "    <tr>\n",
       "      <th>3</th>\n",
       "      <td>NaT</td>\n",
       "      <td>NaN</td>\n",
       "      <td>834</td>\n",
       "    </tr>\n",
       "    <tr>\n",
       "      <th>4</th>\n",
       "      <td>NaT</td>\n",
       "      <td>NaN</td>\n",
       "      <td>691</td>\n",
       "    </tr>\n",
       "    <tr>\n",
       "      <th>...</th>\n",
       "      <td>...</td>\n",
       "      <td>...</td>\n",
       "      <td>...</td>\n",
       "    </tr>\n",
       "    <tr>\n",
       "      <th>67105</th>\n",
       "      <td>2023-01-01 12:00:00</td>\n",
       "      <td>7.0</td>\n",
       "      <td>821</td>\n",
       "    </tr>\n",
       "    <tr>\n",
       "      <th>67106</th>\n",
       "      <td>2023-01-01 11:45:00</td>\n",
       "      <td>5.0</td>\n",
       "      <td>810</td>\n",
       "    </tr>\n",
       "    <tr>\n",
       "      <th>67107</th>\n",
       "      <td>2023-01-01 11:30:00</td>\n",
       "      <td>2.0</td>\n",
       "      <td>798</td>\n",
       "    </tr>\n",
       "    <tr>\n",
       "      <th>67108</th>\n",
       "      <td>2023-01-01 11:15:00</td>\n",
       "      <td>3.0</td>\n",
       "      <td>729</td>\n",
       "    </tr>\n",
       "    <tr>\n",
       "      <th>67109</th>\n",
       "      <td>2023-01-01 11:00:00</td>\n",
       "      <td>0.0</td>\n",
       "      <td>780</td>\n",
       "    </tr>\n",
       "  </tbody>\n",
       "</table>\n",
       "<p>67110 rows × 3 columns</p>\n",
       "</div>"
      ],
      "text/plain": [
       "                     Date  Value_sales  Value_traffic\n",
       "0                     NaT          NaN            758\n",
       "1                     NaT          NaN            718\n",
       "2                     NaT          NaN            758\n",
       "3                     NaT          NaN            834\n",
       "4                     NaT          NaN            691\n",
       "...                   ...          ...            ...\n",
       "67105 2023-01-01 12:00:00          7.0            821\n",
       "67106 2023-01-01 11:45:00          5.0            810\n",
       "67107 2023-01-01 11:30:00          2.0            798\n",
       "67108 2023-01-01 11:15:00          3.0            729\n",
       "67109 2023-01-01 11:00:00          0.0            780\n",
       "\n",
       "[67110 rows x 3 columns]"
      ]
     },
     "execution_count": 190,
     "metadata": {},
     "output_type": "execute_result"
    }
   ],
   "source": [
    "merged_data"
   ]
  },
  {
   "cell_type": "code",
   "execution_count": 191,
   "id": "c9e355a3",
   "metadata": {},
   "outputs": [
    {
     "name": "stdout",
     "output_type": "stream",
     "text": [
      "Date                36\n",
      "Value_sales      12787\n",
      "Value_traffic        0\n",
      "dtype: int64\n"
     ]
    }
   ],
   "source": [
    "print(merged_data.isna().sum())"
   ]
  },
  {
   "cell_type": "code",
   "execution_count": 194,
   "id": "c32b1c6d",
   "metadata": {},
   "outputs": [
    {
     "name": "stdout",
     "output_type": "stream",
     "text": [
      "0\n"
     ]
    }
   ],
   "source": [
    "# Forward fill NaT values in the 'Date' column\n",
    "mean_date = merged_data['Date'].mean()\n",
    "merged_data['Date'] = merged_data['Date'].fillna(mean_date)\n",
    "print(merged_data['Date'].isna().sum())"
   ]
  },
  {
   "cell_type": "code",
   "execution_count": 195,
   "id": "8e9d7202",
   "metadata": {},
   "outputs": [
    {
     "name": "stdout",
     "output_type": "stream",
     "text": [
      "0\n"
     ]
    }
   ],
   "source": [
    "merged_data['Value_sales'] = merged_data['Value_sales'].fillna(0)\n",
    "print(merged_data['Value_sales'].isna().sum())"
   ]
  },
  {
   "cell_type": "code",
   "execution_count": 196,
   "id": "99393b45",
   "metadata": {},
   "outputs": [],
   "source": [
    "# Load and merge all holiday files (2021–2025)\n",
    "holiday_files = [f'../Required Data/SL_Holidays/{year}.csv' for year in range(2021, 2026)]\n",
    "holiday_df_list = [pd.read_csv(file) for file in holiday_files]\n",
    "holiday_data = pd.concat(holiday_df_list, ignore_index=True)\n",
    "holiday_data['Start'] = pd.to_datetime(holiday_data['Start'])\n",
    "holiday_data['End'] = pd.to_datetime(holiday_data['End'])\n",
    "holiday_data.drop_duplicates(inplace=True)"
   ]
  },
  {
   "cell_type": "code",
   "execution_count": 197,
   "id": "e7d41f16",
   "metadata": {},
   "outputs": [],
   "source": [
    "holiday_data.to_csv('../Required Data/merged_holiday_data.csv')"
   ]
  },
  {
   "cell_type": "code",
   "execution_count": 198,
   "id": "1a1e372e",
   "metadata": {},
   "outputs": [
    {
     "data": {
      "text/html": [
       "<div>\n",
       "<style scoped>\n",
       "    .dataframe tbody tr th:only-of-type {\n",
       "        vertical-align: middle;\n",
       "    }\n",
       "\n",
       "    .dataframe tbody tr th {\n",
       "        vertical-align: top;\n",
       "    }\n",
       "\n",
       "    .dataframe thead th {\n",
       "        text-align: right;\n",
       "    }\n",
       "</style>\n",
       "<table border=\"1\" class=\"dataframe\">\n",
       "  <thead>\n",
       "    <tr style=\"text-align: right;\">\n",
       "      <th></th>\n",
       "      <th>Start</th>\n",
       "      <th>End</th>\n",
       "    </tr>\n",
       "  </thead>\n",
       "  <tbody>\n",
       "    <tr>\n",
       "      <th>count</th>\n",
       "      <td>126</td>\n",
       "      <td>126</td>\n",
       "    </tr>\n",
       "    <tr>\n",
       "      <th>mean</th>\n",
       "      <td>2023-06-13 10:51:25.714285824</td>\n",
       "      <td>2023-06-14 10:51:25.714285824</td>\n",
       "    </tr>\n",
       "    <tr>\n",
       "      <th>min</th>\n",
       "      <td>2021-01-14 00:00:00</td>\n",
       "      <td>2021-01-15 00:00:00</td>\n",
       "    </tr>\n",
       "    <tr>\n",
       "      <th>25%</th>\n",
       "      <td>2022-04-13 06:00:00</td>\n",
       "      <td>2022-04-14 06:00:00</td>\n",
       "    </tr>\n",
       "    <tr>\n",
       "      <th>50%</th>\n",
       "      <td>2023-05-05 12:00:00</td>\n",
       "      <td>2023-05-06 12:00:00</td>\n",
       "    </tr>\n",
       "    <tr>\n",
       "      <th>75%</th>\n",
       "      <td>2024-09-09 00:00:00</td>\n",
       "      <td>2024-09-10 00:00:00</td>\n",
       "    </tr>\n",
       "    <tr>\n",
       "      <th>max</th>\n",
       "      <td>2025-12-25 00:00:00</td>\n",
       "      <td>2025-12-26 00:00:00</td>\n",
       "    </tr>\n",
       "  </tbody>\n",
       "</table>\n",
       "</div>"
      ],
      "text/plain": [
       "                               Start                            End\n",
       "count                            126                            126\n",
       "mean   2023-06-13 10:51:25.714285824  2023-06-14 10:51:25.714285824\n",
       "min              2021-01-14 00:00:00            2021-01-15 00:00:00\n",
       "25%              2022-04-13 06:00:00            2022-04-14 06:00:00\n",
       "50%              2023-05-05 12:00:00            2023-05-06 12:00:00\n",
       "75%              2024-09-09 00:00:00            2024-09-10 00:00:00\n",
       "max              2025-12-25 00:00:00            2025-12-26 00:00:00"
      ]
     },
     "execution_count": 198,
     "metadata": {},
     "output_type": "execute_result"
    }
   ],
   "source": [
    "holiday_data.describe()"
   ]
  },
  {
   "cell_type": "code",
   "execution_count": 199,
   "id": "42c86a5f",
   "metadata": {},
   "outputs": [],
   "source": [
    "# Parse the 'Start' and 'End' columns in holiday data to datetime\n",
    "holiday_data['Start'] = pd.to_datetime(holiday_data['Start'], errors='coerce')\n",
    "holiday_data['End'] = pd.to_datetime(holiday_data['End'], errors='coerce')"
   ]
  },
  {
   "cell_type": "code",
   "execution_count": 200,
   "id": "4fca258e",
   "metadata": {},
   "outputs": [
    {
     "name": "stdout",
     "output_type": "stream",
     "text": [
      "Empty DataFrame\n",
      "Columns: [Date, Value_sales, Value_traffic]\n",
      "Index: []\n"
     ]
    }
   ],
   "source": [
    "# Check for rows with missing or invalid Date values in both datasets\n",
    "#print(sales_data[sales_data['Date'].isna()])\n",
    "#print(traffic_data[traffic_data['Date'].isna()])\n",
    "print(merged_data[merged_data['Date'].isna()])"
   ]
  },
  {
   "cell_type": "code",
   "execution_count": 201,
   "id": "e31e10f2",
   "metadata": {},
   "outputs": [],
   "source": [
    "# Check if the 'Date' from merged_df is within the holiday periods\n",
    "def check_holiday(date, holiday_data):\n",
    "    for _, holiday in holiday_data.iterrows():\n",
    "        if holiday['Start'] <= date <= holiday['End']:\n",
    "            return 1  # It is a holiday\n",
    "    return 0  # It is not a holiday\n",
    "\n",
    "# Apply the function to the merged data\n",
    "merged_data['is_holiday'] = merged_data['Date'].apply(lambda x: check_holiday(x, holiday_data))"
   ]
  },
  {
   "cell_type": "code",
   "execution_count": 202,
   "id": "a70f0ce4",
   "metadata": {},
   "outputs": [],
   "source": [
    "# Ensure your datetime column is parsed\n",
    "merged_data['Date'] = pd.to_datetime(merged_data['Date'])"
   ]
  },
  {
   "cell_type": "code",
   "execution_count": 203,
   "id": "f2a609d3",
   "metadata": {},
   "outputs": [
    {
     "data": {
      "text/html": [
       "<div>\n",
       "<style scoped>\n",
       "    .dataframe tbody tr th:only-of-type {\n",
       "        vertical-align: middle;\n",
       "    }\n",
       "\n",
       "    .dataframe tbody tr th {\n",
       "        vertical-align: top;\n",
       "    }\n",
       "\n",
       "    .dataframe thead th {\n",
       "        text-align: right;\n",
       "    }\n",
       "</style>\n",
       "<table border=\"1\" class=\"dataframe\">\n",
       "  <thead>\n",
       "    <tr style=\"text-align: right;\">\n",
       "      <th></th>\n",
       "      <th>Date</th>\n",
       "      <th>Value_sales</th>\n",
       "      <th>Value_traffic</th>\n",
       "      <th>is_holiday</th>\n",
       "    </tr>\n",
       "  </thead>\n",
       "  <tbody>\n",
       "    <tr>\n",
       "      <th>0</th>\n",
       "      <td>2023-02-13 08:15:49.284372224</td>\n",
       "      <td>0.0</td>\n",
       "      <td>758</td>\n",
       "      <td>0</td>\n",
       "    </tr>\n",
       "    <tr>\n",
       "      <th>1</th>\n",
       "      <td>2023-02-13 08:15:49.284372224</td>\n",
       "      <td>0.0</td>\n",
       "      <td>718</td>\n",
       "      <td>0</td>\n",
       "    </tr>\n",
       "    <tr>\n",
       "      <th>2</th>\n",
       "      <td>2023-02-13 08:15:49.284372224</td>\n",
       "      <td>0.0</td>\n",
       "      <td>758</td>\n",
       "      <td>0</td>\n",
       "    </tr>\n",
       "    <tr>\n",
       "      <th>3</th>\n",
       "      <td>2023-02-13 08:15:49.284372224</td>\n",
       "      <td>0.0</td>\n",
       "      <td>834</td>\n",
       "      <td>0</td>\n",
       "    </tr>\n",
       "    <tr>\n",
       "      <th>4</th>\n",
       "      <td>2023-02-13 08:15:49.284372224</td>\n",
       "      <td>0.0</td>\n",
       "      <td>691</td>\n",
       "      <td>0</td>\n",
       "    </tr>\n",
       "    <tr>\n",
       "      <th>...</th>\n",
       "      <td>...</td>\n",
       "      <td>...</td>\n",
       "      <td>...</td>\n",
       "      <td>...</td>\n",
       "    </tr>\n",
       "    <tr>\n",
       "      <th>67105</th>\n",
       "      <td>2023-01-01 12:00:00.000000000</td>\n",
       "      <td>7.0</td>\n",
       "      <td>821</td>\n",
       "      <td>0</td>\n",
       "    </tr>\n",
       "    <tr>\n",
       "      <th>67106</th>\n",
       "      <td>2023-01-01 11:45:00.000000000</td>\n",
       "      <td>5.0</td>\n",
       "      <td>810</td>\n",
       "      <td>0</td>\n",
       "    </tr>\n",
       "    <tr>\n",
       "      <th>67107</th>\n",
       "      <td>2023-01-01 11:30:00.000000000</td>\n",
       "      <td>2.0</td>\n",
       "      <td>798</td>\n",
       "      <td>0</td>\n",
       "    </tr>\n",
       "    <tr>\n",
       "      <th>67108</th>\n",
       "      <td>2023-01-01 11:15:00.000000000</td>\n",
       "      <td>3.0</td>\n",
       "      <td>729</td>\n",
       "      <td>0</td>\n",
       "    </tr>\n",
       "    <tr>\n",
       "      <th>67109</th>\n",
       "      <td>2023-01-01 11:00:00.000000000</td>\n",
       "      <td>0.0</td>\n",
       "      <td>780</td>\n",
       "      <td>0</td>\n",
       "    </tr>\n",
       "  </tbody>\n",
       "</table>\n",
       "<p>67110 rows × 4 columns</p>\n",
       "</div>"
      ],
      "text/plain": [
       "                               Date  Value_sales  Value_traffic  is_holiday\n",
       "0     2023-02-13 08:15:49.284372224          0.0            758           0\n",
       "1     2023-02-13 08:15:49.284372224          0.0            718           0\n",
       "2     2023-02-13 08:15:49.284372224          0.0            758           0\n",
       "3     2023-02-13 08:15:49.284372224          0.0            834           0\n",
       "4     2023-02-13 08:15:49.284372224          0.0            691           0\n",
       "...                             ...          ...            ...         ...\n",
       "67105 2023-01-01 12:00:00.000000000          7.0            821           0\n",
       "67106 2023-01-01 11:45:00.000000000          5.0            810           0\n",
       "67107 2023-01-01 11:30:00.000000000          2.0            798           0\n",
       "67108 2023-01-01 11:15:00.000000000          3.0            729           0\n",
       "67109 2023-01-01 11:00:00.000000000          0.0            780           0\n",
       "\n",
       "[67110 rows x 4 columns]"
      ]
     },
     "execution_count": 203,
     "metadata": {},
     "output_type": "execute_result"
    }
   ],
   "source": [
    "merged_data"
   ]
  },
  {
   "cell_type": "code",
   "execution_count": 204,
   "id": "3e5c8e7a",
   "metadata": {},
   "outputs": [
    {
     "name": "stdout",
     "output_type": "stream",
     "text": [
      "                  Date  Value_sales  Value_traffic  is_holiday\n",
      "0  2023-02-13 08:15:49          0.0            758           0\n",
      "1  2023-02-13 08:15:49          0.0            718           0\n",
      "2  2023-02-13 08:15:49          0.0            758           0\n",
      "3  2023-02-13 08:15:49          0.0            834           0\n",
      "4  2023-02-13 08:15:49          0.0            691           0\n"
     ]
    }
   ],
   "source": [
    "# Convert the 'Date' column to the desired format: 'YYYY-MM-DD HH:MM:SS'\n",
    "merged_data['Date'] = merged_data['Date'].dt.strftime('%Y-%m-%d %H:%M:%S')\n",
    "\n",
    "# Check the result\n",
    "print(merged_data.head())"
   ]
  },
  {
   "cell_type": "code",
   "execution_count": 205,
   "id": "b6399c5b",
   "metadata": {},
   "outputs": [
    {
     "name": "stdout",
     "output_type": "stream",
     "text": [
      "Date             0\n",
      "Value_sales      0\n",
      "Value_traffic    0\n",
      "is_holiday       0\n",
      "dtype: int64\n"
     ]
    }
   ],
   "source": [
    "print(merged_data.isna().sum())"
   ]
  },
  {
   "cell_type": "code",
   "execution_count": 206,
   "id": "1481f9a9",
   "metadata": {},
   "outputs": [],
   "source": [
    "#save the cleaned dataset to a csv file\n",
    "output_file_path = \"../Required Data/cleaned_dataset.csv\"\n",
    "merged_data.to_csv(output_file_path, index=False)"
   ]
  },
  {
   "cell_type": "code",
   "execution_count": 208,
   "id": "6599fb26",
   "metadata": {},
   "outputs": [],
   "source": [
    "# Group by holiday vs non-holiday and calculate average sales\n",
    "holiday_sales = merged_data.groupby('is_holiday')['Value_sales'].mean().reset_index()\n",
    "holiday_sales['is_holiday'] = holiday_sales['is_holiday'].map({0: 'Non-Holiday', 1: 'Holiday'})"
   ]
  },
  {
   "cell_type": "code",
   "execution_count": 209,
   "id": "8523c04f",
   "metadata": {},
   "outputs": [
    {
     "data": {
      "image/png": "[encoded data removed]",
      "text/plain": [
       "<Figure size 700x500 with 1 Axes>"
      ]
     },
     "metadata": {},
     "output_type": "display_data"
    }
   ],
   "source": [
    "# Plot comparison\n",
    "plt.figure(figsize=(7, 5))\n",
    "sns.barplot(data=holiday_sales, x='is_holiday', y='Value_sales', palette='Set2')\n",
    "plt.title('Average Sales on Holidays vs Non-Holidays')\n",
    "plt.xlabel('Day Type')\n",
    "plt.ylabel('Average Sales')\n",
    "plt.tight_layout()\n",
    "plt.show()"
   ]
  },
  {
   "cell_type": "code",
   "execution_count": 210,
   "id": "2c8f1d79",
   "metadata": {
    "scrolled": false
   },
   "outputs": [
    {
     "name": "stderr",
     "output_type": "stream",
     "text": [
      "C:\\ProgramData\\anaconda3\\Lib\\site-packages\\seaborn\\_oldcore.py:1119: FutureWarning: use_inf_as_na option is deprecated and will be removed in a future version. Convert inf values to NaN before operating instead.\n",
      "  with pd.option_context('mode.use_inf_as_na', True):\n",
      "C:\\ProgramData\\anaconda3\\Lib\\site-packages\\seaborn\\_oldcore.py:1119: FutureWarning: use_inf_as_na option is deprecated and will be removed in a future version. Convert inf values to NaN before operating instead.\n",
      "  with pd.option_context('mode.use_inf_as_na', True):\n"
     ]
    },
    {
     "data": {
      "image/png": "[encoded data removed]",
      "text/plain": [
       "<Figure size 1400x600 with 1 Axes>"
      ]
     },
     "metadata": {},
     "output_type": "display_data"
    }
   ],
   "source": [
    "# Plot time series with holidays highlighted\n",
    "plt.figure(figsize=(14, 6))\n",
    "sns.lineplot(data=merged_data, x='Date', y='Value_sales', label='Sales')\n",
    "plt.scatter(\n",
    "    merged_data.loc[merged_data['is_holiday'] == 1, 'Date'],\n",
    "    merged_data.loc[merged_data['is_holiday'] == 1, 'Value_sales'],\n",
    "    color='red', label='Holiday Sales', s=40\n",
    ")\n",
    "plt.title('Sales Over Time with Holidays Highlighted')\n",
    "plt.xlabel('Date')\n",
    "plt.ylabel('Sales Value')\n",
    "plt.legend()\n",
    "plt.tight_layout()\n",
    "plt.show()"
   ]
  },
  {
   "cell_type": "code",
   "execution_count": 34,
   "id": "551e49b7",
   "metadata": {
    "scrolled": false
   },
   "outputs": [
    {
     "data": {
      "image/png": "[encoded data removed]",
      "text/plain": [
       "<Figure size 700x500 with 1 Axes>"
      ]
     },
     "metadata": {},
     "output_type": "display_data"
    }
   ],
   "source": [
    "plt.figure(figsize=(7, 5))\n",
    "sns.boxplot(data=merged_df, x='is_holiday', y='Value_sales', palette='coolwarm')\n",
    "plt.xticks([0, 1], ['Non-Holiday', 'Holiday'])\n",
    "plt.title('Sales Distribution: Holiday vs Non-Holiday')\n",
    "plt.xlabel('Day Type')\n",
    "plt.ylabel('Sales Value')\n",
    "plt.tight_layout()\n",
    "plt.show()"
   ]
  },
  {
   "cell_type": "code",
   "execution_count": 211,
   "id": "798f3fa1",
   "metadata": {},
   "outputs": [
    {
     "name": "stdout",
     "output_type": "stream",
     "text": [
      "T-statistic: -1.5459\n",
      "P-value: 0.1222\n",
      "🚫 The difference in sales between holidays and non-holidays is NOT statistically significant.\n"
     ]
    }
   ],
   "source": [
    "from scipy.stats import ttest_ind\n",
    "\n",
    "# Separate sales into two groups\n",
    "holiday_sales = merged_data[merged_data['is_holiday'] == 1]['Value_sales']\n",
    "non_holiday_sales = merged_data[merged_data['is_holiday'] == 0]['Value_sales']\n",
    "\n",
    "# Perform independent t-test\n",
    "t_stat, p_value = ttest_ind(holiday_sales, non_holiday_sales, equal_var=False)\n",
    "\n",
    "print(f\"T-statistic: {t_stat:.4f}\")\n",
    "print(f\"P-value: {p_value:.4f}\")\n",
    "\n",
    "# Interpretation\n",
    "if p_value < 0.05:\n",
    "    print(\"✅ The difference in sales between holidays and non-holidays is statistically significant.\")\n",
    "else:\n",
    "    print(\"🚫 The difference in sales between holidays and non-holidays is NOT statistically significant.\")"
   ]
  },
  {
   "cell_type": "code",
   "execution_count": null,
   "id": "ac4d2bf3",
   "metadata": {},
   "outputs": [],
   "source": []
  }
 ],
 "metadata": {
  "kernelspec": {
   "display_name": "Python 3 (ipykernel)",
   "language": "python",
   "name": "python3"
  },
  "language_info": {
   "codemirror_mode": {
    "name": "ipython",
    "version": 3
   },
   "file_extension": ".py",
   "mimetype": "text/x-python",
   "name": "python",
   "nbconvert_exporter": "python",
   "pygments_lexer": "ipython3",
   "version": "3.11.5"
  }
 },
 "nbformat": 4,
 "nbformat_minor": 5
}
